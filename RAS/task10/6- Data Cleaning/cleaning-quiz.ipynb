{
 "cells": [
  {
   "cell_type": "markdown",
   "metadata": {},
   "source": [
    "# Cleaning Practice\n",
    "Let's first practice handling missing values and duplicate data using the `cancer_data_means.csv` file."
   ]
  },
  {
   "cell_type": "code",
   "execution_count": 2,
   "metadata": {
    "scrolled": false
   },
   "outputs": [
    {
     "name": "stdout",
     "output_type": "stream",
     "text": [
      "['texture_mean', 'smoothness_mean', 'symmetry_mean']\n"
     ]
    }
   ],
   "source": [
    "# import pandas and load cancer data\n",
    "\n",
    "# check which columns have missing values\n",
    "\n",
    "import pandas as pd\n",
    "\n",
    "df = pd.read_csv('cancer_data_means.csv')\n",
    "\n",
    "cols = df.columns[df.isna().any()].tolist()\n",
    "\n",
    "print(cols)"
   ]
  },
  {
   "cell_type": "code",
   "execution_count": 3,
   "metadata": {},
   "outputs": [
    {
     "data": {
      "text/html": [
       "<div>\n",
       "<style scoped>\n",
       "    .dataframe tbody tr th:only-of-type {\n",
       "        vertical-align: middle;\n",
       "    }\n",
       "\n",
       "    .dataframe tbody tr th {\n",
       "        vertical-align: top;\n",
       "    }\n",
       "\n",
       "    .dataframe thead th {\n",
       "        text-align: right;\n",
       "    }\n",
       "</style>\n",
       "<table border=\"1\" class=\"dataframe\">\n",
       "  <thead>\n",
       "    <tr style=\"text-align: right;\">\n",
       "      <th></th>\n",
       "      <th>texture_mean</th>\n",
       "      <th>smoothness_mean</th>\n",
       "      <th>symmetry_mean</th>\n",
       "    </tr>\n",
       "  </thead>\n",
       "  <tbody>\n",
       "    <tr>\n",
       "      <th>0</th>\n",
       "      <td>19.293431</td>\n",
       "      <td>0.118400</td>\n",
       "      <td>0.2419</td>\n",
       "    </tr>\n",
       "    <tr>\n",
       "      <th>1</th>\n",
       "      <td>17.770000</td>\n",
       "      <td>0.084740</td>\n",
       "      <td>0.1812</td>\n",
       "    </tr>\n",
       "    <tr>\n",
       "      <th>2</th>\n",
       "      <td>21.250000</td>\n",
       "      <td>0.109600</td>\n",
       "      <td>0.2069</td>\n",
       "    </tr>\n",
       "    <tr>\n",
       "      <th>3</th>\n",
       "      <td>20.380000</td>\n",
       "      <td>0.096087</td>\n",
       "      <td>0.2597</td>\n",
       "    </tr>\n",
       "    <tr>\n",
       "      <th>4</th>\n",
       "      <td>14.340000</td>\n",
       "      <td>0.100300</td>\n",
       "      <td>0.1809</td>\n",
       "    </tr>\n",
       "    <tr>\n",
       "      <th>...</th>\n",
       "      <td>...</td>\n",
       "      <td>...</td>\n",
       "      <td>...</td>\n",
       "    </tr>\n",
       "    <tr>\n",
       "      <th>564</th>\n",
       "      <td>22.390000</td>\n",
       "      <td>0.111000</td>\n",
       "      <td>0.1726</td>\n",
       "    </tr>\n",
       "    <tr>\n",
       "      <th>565</th>\n",
       "      <td>28.250000</td>\n",
       "      <td>0.097800</td>\n",
       "      <td>0.1752</td>\n",
       "    </tr>\n",
       "    <tr>\n",
       "      <th>566</th>\n",
       "      <td>28.080000</td>\n",
       "      <td>0.084550</td>\n",
       "      <td>0.1590</td>\n",
       "    </tr>\n",
       "    <tr>\n",
       "      <th>567</th>\n",
       "      <td>29.330000</td>\n",
       "      <td>0.117800</td>\n",
       "      <td>0.2397</td>\n",
       "    </tr>\n",
       "    <tr>\n",
       "      <th>568</th>\n",
       "      <td>24.540000</td>\n",
       "      <td>0.052630</td>\n",
       "      <td>0.1587</td>\n",
       "    </tr>\n",
       "  </tbody>\n",
       "</table>\n",
       "<p>569 rows × 3 columns</p>\n",
       "</div>"
      ],
      "text/plain": [
       "     texture_mean  smoothness_mean  symmetry_mean\n",
       "0       19.293431         0.118400         0.2419\n",
       "1       17.770000         0.084740         0.1812\n",
       "2       21.250000         0.109600         0.2069\n",
       "3       20.380000         0.096087         0.2597\n",
       "4       14.340000         0.100300         0.1809\n",
       "..            ...              ...            ...\n",
       "564     22.390000         0.111000         0.1726\n",
       "565     28.250000         0.097800         0.1752\n",
       "566     28.080000         0.084550         0.1590\n",
       "567     29.330000         0.117800         0.2397\n",
       "568     24.540000         0.052630         0.1587\n",
       "\n",
       "[569 rows x 3 columns]"
      ]
     },
     "execution_count": 3,
     "metadata": {},
     "output_type": "execute_result"
    }
   ],
   "source": [
    "# use the mean to fill in missing values\n",
    "mean = df[cols].mean()\n",
    "\n",
    "df.loc[:, cols] = df[cols].fillna(mean)\n",
    "# confirm your correction \n",
    "df[cols].fillna(mean)"
   ]
  },
  {
   "cell_type": "code",
   "execution_count": 32,
   "metadata": {},
   "outputs": [
    {
     "data": {
      "text/plain": [
       "5"
      ]
     },
     "execution_count": 32,
     "metadata": {},
     "output_type": "execute_result"
    }
   ],
   "source": [
    "# how many duplicates are there ?\n",
    "sum(df.duplicated())"
   ]
  },
  {
   "cell_type": "code",
   "execution_count": 33,
   "metadata": {},
   "outputs": [],
   "source": [
    "# drop duplicates\n",
    "df.drop_duplicates(inplace = True)"
   ]
  },
  {
   "cell_type": "code",
   "execution_count": 34,
   "metadata": {},
   "outputs": [
    {
     "data": {
      "text/plain": [
       "0"
      ]
     },
     "execution_count": 34,
     "metadata": {},
     "output_type": "execute_result"
    }
   ],
   "source": [
    "# confirm correction by rechecking for duplicates in the data\n",
    "sum(df.duplicated())"
   ]
  },
  {
   "cell_type": "markdown",
   "metadata": {},
   "source": [
    "## Renaming Columns\n",
    "Since we also previously changed our dataset to only include means of tumor features, the \"_mean\" at the end of each feature seems unnecessary. It just takes extra time to type in our analysis later. Rename the columns of the dataframe to remove \"_mean\"."
   ]
  },
  {
   "cell_type": "code",
   "execution_count": 53,
   "metadata": {},
   "outputs": [
    {
     "data": {
      "text/plain": [
       "<bound method DataFrame.info of            id diagnosis  radius  texture  perimeter    area  smoothness  \\\n",
       "0      842302         M   17.99      NaN     122.80  1001.0     0.11840   \n",
       "1      842517         M   20.57    17.77     132.90  1326.0     0.08474   \n",
       "2    84300903         M   19.69    21.25     130.00  1203.0     0.10960   \n",
       "3    84348301         M   11.42    20.38      77.58   386.1         NaN   \n",
       "4    84358402         M   20.29    14.34     135.10  1297.0     0.10030   \n",
       "..        ...       ...     ...      ...        ...     ...         ...   \n",
       "564    926424         M   21.56    22.39     142.00  1479.0     0.11100   \n",
       "565    926682         M   20.13    28.25     131.20  1261.0     0.09780   \n",
       "566    926954         M   16.60    28.08     108.30   858.1     0.08455   \n",
       "567    927241         M   20.60    29.33     140.10  1265.0     0.11780   \n",
       "568     92751         B    7.76    24.54      47.92   181.0     0.05263   \n",
       "\n",
       "     compactness  concavity  concave_points  symmetry  fractal_dimension  \n",
       "0        0.27760    0.30010         0.14710    0.2419            0.07871  \n",
       "1        0.07864    0.08690         0.07017    0.1812            0.05667  \n",
       "2        0.15990    0.19740         0.12790    0.2069            0.05999  \n",
       "3        0.28390    0.24140         0.10520    0.2597            0.09744  \n",
       "4        0.13280    0.19800         0.10430    0.1809            0.05883  \n",
       "..           ...        ...             ...       ...                ...  \n",
       "564      0.11590    0.24390         0.13890    0.1726            0.05623  \n",
       "565      0.10340    0.14400         0.09791    0.1752            0.05533  \n",
       "566      0.10230    0.09251         0.05302    0.1590            0.05648  \n",
       "567      0.27700    0.35140         0.15200    0.2397            0.07016  \n",
       "568      0.04362    0.00000         0.00000    0.1587            0.05884  \n",
       "\n",
       "[564 rows x 12 columns]>"
      ]
     },
     "execution_count": 53,
     "metadata": {},
     "output_type": "execute_result"
    }
   ],
   "source": [
    "# rename the columns of the dataframe (remove _mean from the name of each column if found)\n",
    "df.rename(columns = lambda x: x.replace('_mean', ''), inplace=True)\n",
    "df.info"
   ]
  },
  {
   "cell_type": "code",
   "execution_count": 6,
   "metadata": {
    "scrolled": false
   },
   "outputs": [
    {
     "data": {
      "text/html": [
       "<div>\n",
       "<style scoped>\n",
       "    .dataframe tbody tr th:only-of-type {\n",
       "        vertical-align: middle;\n",
       "    }\n",
       "\n",
       "    .dataframe tbody tr th {\n",
       "        vertical-align: top;\n",
       "    }\n",
       "\n",
       "    .dataframe thead th {\n",
       "        text-align: right;\n",
       "    }\n",
       "</style>\n",
       "<table border=\"1\" class=\"dataframe\">\n",
       "  <thead>\n",
       "    <tr style=\"text-align: right;\">\n",
       "      <th></th>\n",
       "      <th>id</th>\n",
       "      <th>diagnosis</th>\n",
       "      <th>radius_mean</th>\n",
       "      <th>texture_mean</th>\n",
       "      <th>perimeter_mean</th>\n",
       "      <th>area_mean</th>\n",
       "      <th>smoothness_mean</th>\n",
       "      <th>compactness_mean</th>\n",
       "      <th>concavity_mean</th>\n",
       "      <th>concave_points_mean</th>\n",
       "      <th>symmetry_mean</th>\n",
       "      <th>fractal_dimension_mean</th>\n",
       "    </tr>\n",
       "  </thead>\n",
       "  <tbody>\n",
       "    <tr>\n",
       "      <th>0</th>\n",
       "      <td>842302</td>\n",
       "      <td>M</td>\n",
       "      <td>17.99</td>\n",
       "      <td>19.293431</td>\n",
       "      <td>122.8</td>\n",
       "      <td>1001.0</td>\n",
       "      <td>0.11840</td>\n",
       "      <td>0.27760</td>\n",
       "      <td>0.3001</td>\n",
       "      <td>0.14710</td>\n",
       "      <td>0.2419</td>\n",
       "      <td>0.07871</td>\n",
       "    </tr>\n",
       "    <tr>\n",
       "      <th>1</th>\n",
       "      <td>842517</td>\n",
       "      <td>M</td>\n",
       "      <td>20.57</td>\n",
       "      <td>17.770000</td>\n",
       "      <td>132.9</td>\n",
       "      <td>1326.0</td>\n",
       "      <td>0.08474</td>\n",
       "      <td>0.07864</td>\n",
       "      <td>0.0869</td>\n",
       "      <td>0.07017</td>\n",
       "      <td>0.1812</td>\n",
       "      <td>0.05667</td>\n",
       "    </tr>\n",
       "    <tr>\n",
       "      <th>2</th>\n",
       "      <td>84300903</td>\n",
       "      <td>M</td>\n",
       "      <td>19.69</td>\n",
       "      <td>21.250000</td>\n",
       "      <td>130.0</td>\n",
       "      <td>1203.0</td>\n",
       "      <td>0.10960</td>\n",
       "      <td>0.15990</td>\n",
       "      <td>0.1974</td>\n",
       "      <td>0.12790</td>\n",
       "      <td>0.2069</td>\n",
       "      <td>0.05999</td>\n",
       "    </tr>\n",
       "  </tbody>\n",
       "</table>\n",
       "</div>"
      ],
      "text/plain": [
       "         id diagnosis  radius_mean  texture_mean  perimeter_mean  area_mean  \\\n",
       "0    842302         M        17.99     19.293431           122.8     1001.0   \n",
       "1    842517         M        20.57     17.770000           132.9     1326.0   \n",
       "2  84300903         M        19.69     21.250000           130.0     1203.0   \n",
       "\n",
       "   smoothness_mean  compactness_mean  concavity_mean  concave_points_mean  \\\n",
       "0          0.11840           0.27760          0.3001              0.14710   \n",
       "1          0.08474           0.07864          0.0869              0.07017   \n",
       "2          0.10960           0.15990          0.1974              0.12790   \n",
       "\n",
       "   symmetry_mean  fractal_dimension_mean  \n",
       "0         0.2419                 0.07871  \n",
       "1         0.1812                 0.05667  \n",
       "2         0.2069                 0.05999  "
      ]
     },
     "execution_count": 6,
     "metadata": {},
     "output_type": "execute_result"
    }
   ],
   "source": [
    "# display first few rows of the dataframe to confirm changes\n",
    "df.head(3)"
   ]
  },
  {
   "cell_type": "code",
   "execution_count": 7,
   "metadata": {},
   "outputs": [],
   "source": [
    "# save this for later as a csv file named \"cancer_data_edited.csv\" and set indexing to false (why ??)\n",
    "df.to_csv('cancer_data_edited.csv', index = False)\n",
    "\n",
    "# to avoid printing the index to csv"
   ]
  }
 ],
 "metadata": {
  "kernelspec": {
   "display_name": "Python 3 (ipykernel)",
   "language": "python",
   "name": "python3"
  },
  "language_info": {
   "codemirror_mode": {
    "name": "ipython",
    "version": 3
   },
   "file_extension": ".py",
   "mimetype": "text/x-python",
   "name": "python",
   "nbconvert_exporter": "python",
   "pygments_lexer": "ipython3",
   "version": "3.10.9"
  }
 },
 "nbformat": 4,
 "nbformat_minor": 2
}
