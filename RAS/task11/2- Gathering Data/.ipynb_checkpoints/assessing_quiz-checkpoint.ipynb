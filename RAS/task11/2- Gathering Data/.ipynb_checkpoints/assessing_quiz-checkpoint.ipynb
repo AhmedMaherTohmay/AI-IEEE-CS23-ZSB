{
 "cells": [
  {
   "cell_type": "markdown",
   "metadata": {},
   "source": [
    "# Assessing\n",
    "Use the space below to explore `winequality-red.csv` and `winequality-white.csv` to answer the quiz questions below."
   ]
  },
  {
   "cell_type": "code",
   "execution_count": null,
   "metadata": {},
   "outputs": [],
   "source": [
    "# Answer the following questions:\n",
    "# number of samples in each dataset? (1599)(4898)\n",
    "# number of columns in each dataset? (12)\n",
    "# features with missing values? (NONE) \n",
    "# duplicate rows in the white wine dataset? (937)\n",
    "# number of unique values for quality in each dataset? (6)(7)\n",
    "# mean density of the red wine dataset? (0.9967466791744841)"
   ]
  },
  {
   "cell_type": "code",
   "execution_count": 9,
   "metadata": {},
   "outputs": [
    {
     "name": "stdout",
     "output_type": "stream",
     "text": [
      "1599\n",
      "12\n",
      "4898\n",
      "12\n"
     ]
    }
   ],
   "source": [
    "import pandas as pd\n",
    "\n",
    "df = pd.read_csv('winequality-red.csv', sep = ';')\n",
    "db = pd.read_csv('winequality-white.csv', sep = ';')\n",
    "print(df.shape[0])\n",
    "print(df.shape[1])\n",
    "print(db.shape[0])\n",
    "print(db.shape[1])"
   ]
  },
  {
   "cell_type": "code",
   "execution_count": 10,
   "metadata": {},
   "outputs": [
    {
     "name": "stdout",
     "output_type": "stream",
     "text": [
      "[]\n",
      "[]\n"
     ]
    }
   ],
   "source": [
    "cols1 = df.columns[df.isna().any()].tolist()\n",
    "\n",
    "print(cols1)\n",
    "\n",
    "cols2 = db.columns[db.isna().any()].tolist()\n",
    "\n",
    "print(cols2)"
   ]
  },
  {
   "cell_type": "code",
   "execution_count": 12,
   "metadata": {},
   "outputs": [
    {
     "name": "stdout",
     "output_type": "stream",
     "text": [
      "240\n",
      "937\n"
     ]
    }
   ],
   "source": [
    "print(sum(df.duplicated()))\n",
    "print(sum(db.duplicated()))"
   ]
  },
  {
   "cell_type": "code",
   "execution_count": 17,
   "metadata": {},
   "outputs": [
    {
     "name": "stdout",
     "output_type": "stream",
     "text": [
      "6\n",
      "7\n"
     ]
    }
   ],
   "source": [
    "print(df[\"quality\"].nunique())\n",
    "print(db[\"quality\"].nunique())"
   ]
  },
  {
   "cell_type": "code",
   "execution_count": 16,
   "metadata": {},
   "outputs": [
    {
     "data": {
      "text/plain": [
       "0.9967466791744841"
      ]
     },
     "execution_count": 16,
     "metadata": {},
     "output_type": "execute_result"
    }
   ],
   "source": [
    "df['density'].mean()"
   ]
  }
 ],
 "metadata": {
  "kernelspec": {
   "display_name": "Python 3 (ipykernel)",
   "language": "python",
   "name": "python3"
  },
  "language_info": {
   "codemirror_mode": {
    "name": "ipython",
    "version": 3
   },
   "file_extension": ".py",
   "mimetype": "text/x-python",
   "name": "python",
   "nbconvert_exporter": "python",
   "pygments_lexer": "ipython3",
   "version": "3.10.9"
  }
 },
 "nbformat": 4,
 "nbformat_minor": 2
}
