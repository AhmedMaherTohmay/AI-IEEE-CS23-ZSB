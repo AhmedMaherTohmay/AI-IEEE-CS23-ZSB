{
 "cells": [
  {
   "attachments": {},
   "cell_type": "markdown",
   "metadata": {},
   "source": [
    "P1"
   ]
  },
  {
   "cell_type": "code",
   "execution_count": null,
   "metadata": {},
   "outputs": [],
   "source": [
    "import numpy as np"
   ]
  },
  {
   "cell_type": "code",
   "execution_count": null,
   "metadata": {},
   "outputs": [],
   "source": [
    "arr = np.diag([9, 9, 9])\n",
    "print(arr)"
   ]
  },
  {
   "attachments": {},
   "cell_type": "markdown",
   "metadata": {},
   "source": [
    "P2"
   ]
  },
  {
   "cell_type": "code",
   "execution_count": null,
   "metadata": {},
   "outputs": [],
   "source": [
    "x = np.arange(2, 33, 2).reshape((4, 4))\n",
    "boolindex = (x > (x.mean() - x.std())) & (x < (x.mean() + x.std()))\n",
    "arr = x[(x > (x.mean() - x.std())) & (x < (x.mean() + x.std()))]\n",
    "print(boolindex)\n",
    "print(arr)"
   ]
  },
  {
   "attachments": {},
   "cell_type": "markdown",
   "metadata": {},
   "source": [
    "P3"
   ]
  },
  {
   "cell_type": "code",
   "execution_count": null,
   "metadata": {},
   "outputs": [],
   "source": [
    "x = np.zeros((9, 9), dtype = int)   \n",
    "print(x)"
   ]
  },
  {
   "attachments": {},
   "cell_type": "markdown",
   "metadata": {},
   "source": [
    "P4"
   ]
  },
  {
   "cell_type": "code",
   "execution_count": null,
   "metadata": {},
   "outputs": [],
   "source": [
    "while True:\n",
    "    try:\n",
    "        n = int(input(\"input numbers: \"))\n",
    "        break\n",
    "    except ValueError:\n",
    "        print(\"valid number\")\n",
    "    except KeyboardInterrupt:\n",
    "        print(\"Keyboard Interrupt\")\n",
    "        exit()\n",
    "one = np.ones((n, n))  # making a dimensional  array of ones\n",
    "z = np.arange(1, n+1).reshape(n, 1)  # making the range of the specified number\n",
    "print(one * z)  # multipling the two arrays to make the output"
   ]
  }
 ],
 "metadata": {
  "kernelspec": {
   "display_name": "Python 3",
   "language": "python",
   "name": "python3"
  },
  "language_info": {
   "name": "python",
   "version": "3.11.1"
  },
  "orig_nbformat": 4
 },
 "nbformat": 4,
 "nbformat_minor": 2
}
